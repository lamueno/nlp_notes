{
 "cells": [
  {
   "cell_type": "markdown",
   "metadata": {},
   "source": [
    "# Chapter 2\n",
    "## Regular Expressions, Text Normalization and Edit Distance"
   ]
  },
  {
   "cell_type": "markdown",
   "metadata": {},
   "source": [
    "### Text Normalization\n",
    "\n",
    "#### 1. tokenization\n",
    "处理表情符号 `O(∩_∩)O` ，\n",
    "或者标签 `#nlproc`\n",
    "\n",
    "对于中文，需要先进行分词，再进行tokenization\n",
    "\n",
    "#### 2. lemmatization 词形还原\n",
    "sang,sung,sings 都是sing的各种形态。\n",
    "中文不存在这种情况\n",
    "\n",
    "#### 3. stemming 词干提取\n",
    "\n",
    "#### 4. sentence segmentation\n"
   ]
  },
  {
   "cell_type": "markdown",
   "metadata": {},
   "source": [
    "### Words and Corpora\n",
    "\n",
    "#### corpus & corpora\n",
    "corpus: \n",
    "> a computer-readable collections of text or speech\n",
    "\n",
    "#### utterance\n",
    "> the spoken correlate of a sentence\n",
    "\n"
   ]
  },
  {
   "cell_type": "code",
   "execution_count": null,
   "metadata": {
    "collapsed": true
   },
   "outputs": [],
   "source": []
  }
 ],
 "metadata": {
  "kernelspec": {
   "display_name": "Python3.6(nlp)",
   "language": "python",
   "name": "py36_nlp"
  },
  "language_info": {
   "codemirror_mode": {
    "name": "ipython",
    "version": 3
   },
   "file_extension": ".py",
   "mimetype": "text/x-python",
   "name": "python",
   "nbconvert_exporter": "python",
   "pygments_lexer": "ipython3",
   "version": "3.6.3"
  }
 },
 "nbformat": 4,
 "nbformat_minor": 2
}
